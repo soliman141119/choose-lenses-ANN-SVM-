{
 "cells": [
  {
   "cell_type": "code",
   "execution_count": 1,
   "metadata": {},
   "outputs": [],
   "source": [
    "from sklearn.metrics import classification_report , confusion_matrix \n",
    "import pandas as pd\n",
    "from sklearn.preprocessing import Normalizer\n",
    "from sklearn.model_selection import train_test_split\n",
    "import seaborn as sns\n",
    "import matplotlib.pyplot as plt"
   ]
  },
  {
   "cell_type": "code",
   "execution_count": 2,
   "metadata": {},
   "outputs": [],
   "source": [
    "#reading data\n",
    "names = ['age_patient', 'spectacle_prescription', 'astigmatic', 'tear_production_rate:  ', 'class']\n",
    "data = pd.read_csv('lence1.csv',names=names)"
   ]
  },
  {
   "cell_type": "code",
   "execution_count": 3,
   "metadata": {},
   "outputs": [
    {
     "data": {
      "text/html": [
       "<div>\n",
       "<style scoped>\n",
       "    .dataframe tbody tr th:only-of-type {\n",
       "        vertical-align: middle;\n",
       "    }\n",
       "\n",
       "    .dataframe tbody tr th {\n",
       "        vertical-align: top;\n",
       "    }\n",
       "\n",
       "    .dataframe thead th {\n",
       "        text-align: right;\n",
       "    }\n",
       "</style>\n",
       "<table border=\"1\" class=\"dataframe\">\n",
       "  <thead>\n",
       "    <tr style=\"text-align: right;\">\n",
       "      <th></th>\n",
       "      <th>age_patient</th>\n",
       "      <th>spectacle_prescription</th>\n",
       "      <th>astigmatic</th>\n",
       "      <th>tear_production_rate:</th>\n",
       "      <th>class</th>\n",
       "    </tr>\n",
       "  </thead>\n",
       "  <tbody>\n",
       "    <tr>\n",
       "      <td>0</td>\n",
       "      <td>1</td>\n",
       "      <td>1</td>\n",
       "      <td>1</td>\n",
       "      <td>1</td>\n",
       "      <td>3</td>\n",
       "    </tr>\n",
       "    <tr>\n",
       "      <td>1</td>\n",
       "      <td>1</td>\n",
       "      <td>1</td>\n",
       "      <td>1</td>\n",
       "      <td>2</td>\n",
       "      <td>2</td>\n",
       "    </tr>\n",
       "    <tr>\n",
       "      <td>2</td>\n",
       "      <td>1</td>\n",
       "      <td>1</td>\n",
       "      <td>2</td>\n",
       "      <td>1</td>\n",
       "      <td>3</td>\n",
       "    </tr>\n",
       "    <tr>\n",
       "      <td>3</td>\n",
       "      <td>1</td>\n",
       "      <td>1</td>\n",
       "      <td>2</td>\n",
       "      <td>2</td>\n",
       "      <td>1</td>\n",
       "    </tr>\n",
       "    <tr>\n",
       "      <td>4</td>\n",
       "      <td>1</td>\n",
       "      <td>2</td>\n",
       "      <td>1</td>\n",
       "      <td>1</td>\n",
       "      <td>3</td>\n",
       "    </tr>\n",
       "  </tbody>\n",
       "</table>\n",
       "</div>"
      ],
      "text/plain": [
       "   age_patient  spectacle_prescription  astigmatic  tear_production_rate:    \\\n",
       "0            1                       1           1                        1   \n",
       "1            1                       1           1                        2   \n",
       "2            1                       1           2                        1   \n",
       "3            1                       1           2                        2   \n",
       "4            1                       2           1                        1   \n",
       "\n",
       "   class  \n",
       "0      3  \n",
       "1      2  \n",
       "2      3  \n",
       "3      1  \n",
       "4      3  "
      ]
     },
     "execution_count": 3,
     "metadata": {},
     "output_type": "execute_result"
    }
   ],
   "source": [
    "data.head()"
   ]
  },
  {
   "cell_type": "code",
   "execution_count": 4,
   "metadata": {},
   "outputs": [
    {
     "data": {
      "text/html": [
       "<div>\n",
       "<style scoped>\n",
       "    .dataframe tbody tr th:only-of-type {\n",
       "        vertical-align: middle;\n",
       "    }\n",
       "\n",
       "    .dataframe tbody tr th {\n",
       "        vertical-align: top;\n",
       "    }\n",
       "\n",
       "    .dataframe thead th {\n",
       "        text-align: right;\n",
       "    }\n",
       "</style>\n",
       "<table border=\"1\" class=\"dataframe\">\n",
       "  <thead>\n",
       "    <tr style=\"text-align: right;\">\n",
       "      <th></th>\n",
       "      <th>age_patient</th>\n",
       "      <th>spectacle_prescription</th>\n",
       "      <th>astigmatic</th>\n",
       "      <th>tear_production_rate:</th>\n",
       "      <th>class</th>\n",
       "    </tr>\n",
       "  </thead>\n",
       "  <tbody>\n",
       "    <tr>\n",
       "      <td>count</td>\n",
       "      <td>24.000000</td>\n",
       "      <td>24.000000</td>\n",
       "      <td>24.000000</td>\n",
       "      <td>24.000000</td>\n",
       "      <td>24.000000</td>\n",
       "    </tr>\n",
       "    <tr>\n",
       "      <td>mean</td>\n",
       "      <td>2.000000</td>\n",
       "      <td>1.500000</td>\n",
       "      <td>1.541667</td>\n",
       "      <td>1.500000</td>\n",
       "      <td>2.458333</td>\n",
       "    </tr>\n",
       "    <tr>\n",
       "      <td>std</td>\n",
       "      <td>0.834058</td>\n",
       "      <td>0.510754</td>\n",
       "      <td>0.508977</td>\n",
       "      <td>0.510754</td>\n",
       "      <td>0.779028</td>\n",
       "    </tr>\n",
       "    <tr>\n",
       "      <td>min</td>\n",
       "      <td>1.000000</td>\n",
       "      <td>1.000000</td>\n",
       "      <td>1.000000</td>\n",
       "      <td>1.000000</td>\n",
       "      <td>1.000000</td>\n",
       "    </tr>\n",
       "    <tr>\n",
       "      <td>25%</td>\n",
       "      <td>1.000000</td>\n",
       "      <td>1.000000</td>\n",
       "      <td>1.000000</td>\n",
       "      <td>1.000000</td>\n",
       "      <td>2.000000</td>\n",
       "    </tr>\n",
       "    <tr>\n",
       "      <td>50%</td>\n",
       "      <td>2.000000</td>\n",
       "      <td>1.500000</td>\n",
       "      <td>2.000000</td>\n",
       "      <td>1.500000</td>\n",
       "      <td>3.000000</td>\n",
       "    </tr>\n",
       "    <tr>\n",
       "      <td>75%</td>\n",
       "      <td>3.000000</td>\n",
       "      <td>2.000000</td>\n",
       "      <td>2.000000</td>\n",
       "      <td>2.000000</td>\n",
       "      <td>3.000000</td>\n",
       "    </tr>\n",
       "    <tr>\n",
       "      <td>max</td>\n",
       "      <td>3.000000</td>\n",
       "      <td>2.000000</td>\n",
       "      <td>2.000000</td>\n",
       "      <td>2.000000</td>\n",
       "      <td>3.000000</td>\n",
       "    </tr>\n",
       "  </tbody>\n",
       "</table>\n",
       "</div>"
      ],
      "text/plain": [
       "       age_patient  spectacle_prescription  astigmatic  \\\n",
       "count    24.000000               24.000000   24.000000   \n",
       "mean      2.000000                1.500000    1.541667   \n",
       "std       0.834058                0.510754    0.508977   \n",
       "min       1.000000                1.000000    1.000000   \n",
       "25%       1.000000                1.000000    1.000000   \n",
       "50%       2.000000                1.500000    2.000000   \n",
       "75%       3.000000                2.000000    2.000000   \n",
       "max       3.000000                2.000000    2.000000   \n",
       "\n",
       "       tear_production_rate:        class  \n",
       "count                24.000000  24.000000  \n",
       "mean                  1.500000   2.458333  \n",
       "std                   0.510754   0.779028  \n",
       "min                   1.000000   1.000000  \n",
       "25%                   1.000000   2.000000  \n",
       "50%                   1.500000   3.000000  \n",
       "75%                   2.000000   3.000000  \n",
       "max                   2.000000   3.000000  "
      ]
     },
     "execution_count": 4,
     "metadata": {},
     "output_type": "execute_result"
    }
   ],
   "source": [
    "data.describe()"
   ]
  },
  {
   "cell_type": "markdown",
   "metadata": {},
   "source": [
    "# Handling Categorical Variables"
   ]
  },
  {
   "cell_type": "markdown",
   "metadata": {},
   "source": [
    "Using the map function"
   ]
  },
  {
   "cell_type": "code",
   "execution_count": 5,
   "metadata": {},
   "outputs": [],
   "source": [
    "class_mapping = {1:'hard_contact_lenses',2:'soft_contact_lenses',3:'no_contact_lenses'}\n",
    "data['class name'] = data['class'].map(class_mapping)"
   ]
  },
  {
   "cell_type": "code",
   "execution_count": 6,
   "metadata": {},
   "outputs": [
    {
     "data": {
      "text/html": [
       "<div>\n",
       "<style scoped>\n",
       "    .dataframe tbody tr th:only-of-type {\n",
       "        vertical-align: middle;\n",
       "    }\n",
       "\n",
       "    .dataframe tbody tr th {\n",
       "        vertical-align: top;\n",
       "    }\n",
       "\n",
       "    .dataframe thead th {\n",
       "        text-align: right;\n",
       "    }\n",
       "</style>\n",
       "<table border=\"1\" class=\"dataframe\">\n",
       "  <thead>\n",
       "    <tr style=\"text-align: right;\">\n",
       "      <th></th>\n",
       "      <th>age_patient</th>\n",
       "      <th>spectacle_prescription</th>\n",
       "      <th>astigmatic</th>\n",
       "      <th>tear_production_rate:</th>\n",
       "      <th>class</th>\n",
       "      <th>class name</th>\n",
       "    </tr>\n",
       "  </thead>\n",
       "  <tbody>\n",
       "    <tr>\n",
       "      <td>0</td>\n",
       "      <td>1</td>\n",
       "      <td>1</td>\n",
       "      <td>1</td>\n",
       "      <td>1</td>\n",
       "      <td>3</td>\n",
       "      <td>no_contact_lenses</td>\n",
       "    </tr>\n",
       "    <tr>\n",
       "      <td>1</td>\n",
       "      <td>1</td>\n",
       "      <td>1</td>\n",
       "      <td>1</td>\n",
       "      <td>2</td>\n",
       "      <td>2</td>\n",
       "      <td>soft_contact_lenses</td>\n",
       "    </tr>\n",
       "    <tr>\n",
       "      <td>2</td>\n",
       "      <td>1</td>\n",
       "      <td>1</td>\n",
       "      <td>2</td>\n",
       "      <td>1</td>\n",
       "      <td>3</td>\n",
       "      <td>no_contact_lenses</td>\n",
       "    </tr>\n",
       "    <tr>\n",
       "      <td>3</td>\n",
       "      <td>1</td>\n",
       "      <td>1</td>\n",
       "      <td>2</td>\n",
       "      <td>2</td>\n",
       "      <td>1</td>\n",
       "      <td>hard_contact_lenses</td>\n",
       "    </tr>\n",
       "    <tr>\n",
       "      <td>4</td>\n",
       "      <td>1</td>\n",
       "      <td>2</td>\n",
       "      <td>1</td>\n",
       "      <td>1</td>\n",
       "      <td>3</td>\n",
       "      <td>no_contact_lenses</td>\n",
       "    </tr>\n",
       "  </tbody>\n",
       "</table>\n",
       "</div>"
      ],
      "text/plain": [
       "   age_patient  spectacle_prescription  astigmatic  tear_production_rate:    \\\n",
       "0            1                       1           1                        1   \n",
       "1            1                       1           1                        2   \n",
       "2            1                       1           2                        1   \n",
       "3            1                       1           2                        2   \n",
       "4            1                       2           1                        1   \n",
       "\n",
       "   class           class name  \n",
       "0      3    no_contact_lenses  \n",
       "1      2  soft_contact_lenses  \n",
       "2      3    no_contact_lenses  \n",
       "3      1  hard_contact_lenses  \n",
       "4      3    no_contact_lenses  "
      ]
     },
     "execution_count": 6,
     "metadata": {},
     "output_type": "execute_result"
    }
   ],
   "source": [
    "data.head()"
   ]
  },
  {
   "cell_type": "code",
   "execution_count": 7,
   "metadata": {},
   "outputs": [
    {
     "data": {
      "text/plain": [
       "class name\n",
       "hard_contact_lenses     4\n",
       "no_contact_lenses      15\n",
       "soft_contact_lenses     5\n",
       "dtype: int64"
      ]
     },
     "execution_count": 7,
     "metadata": {},
     "output_type": "execute_result"
    }
   ],
   "source": [
    "#group by class statistics\n",
    "data.groupby('class name').size()"
   ]
  },
  {
   "cell_type": "code",
   "execution_count": 8,
   "metadata": {},
   "outputs": [
    {
     "data": {
      "text/html": [
       "<div>\n",
       "<style scoped>\n",
       "    .dataframe tbody tr th:only-of-type {\n",
       "        vertical-align: middle;\n",
       "    }\n",
       "\n",
       "    .dataframe tbody tr th {\n",
       "        vertical-align: top;\n",
       "    }\n",
       "\n",
       "    .dataframe thead th {\n",
       "        text-align: right;\n",
       "    }\n",
       "</style>\n",
       "<table border=\"1\" class=\"dataframe\">\n",
       "  <thead>\n",
       "    <tr style=\"text-align: right;\">\n",
       "      <th></th>\n",
       "      <th>Total</th>\n",
       "      <th>Percent</th>\n",
       "    </tr>\n",
       "  </thead>\n",
       "  <tbody>\n",
       "    <tr>\n",
       "      <td>class name</td>\n",
       "      <td>0</td>\n",
       "      <td>0.0</td>\n",
       "    </tr>\n",
       "    <tr>\n",
       "      <td>class</td>\n",
       "      <td>0</td>\n",
       "      <td>0.0</td>\n",
       "    </tr>\n",
       "    <tr>\n",
       "      <td>tear_production_rate:</td>\n",
       "      <td>0</td>\n",
       "      <td>0.0</td>\n",
       "    </tr>\n",
       "    <tr>\n",
       "      <td>astigmatic</td>\n",
       "      <td>0</td>\n",
       "      <td>0.0</td>\n",
       "    </tr>\n",
       "    <tr>\n",
       "      <td>spectacle_prescription</td>\n",
       "      <td>0</td>\n",
       "      <td>0.0</td>\n",
       "    </tr>\n",
       "    <tr>\n",
       "      <td>age_patient</td>\n",
       "      <td>0</td>\n",
       "      <td>0.0</td>\n",
       "    </tr>\n",
       "  </tbody>\n",
       "</table>\n",
       "</div>"
      ],
      "text/plain": [
       "                         Total  Percent\n",
       "class name                   0      0.0\n",
       "class                        0      0.0\n",
       "tear_production_rate:        0      0.0\n",
       "astigmatic                   0      0.0\n",
       "spectacle_prescription       0      0.0\n",
       "age_patient                  0      0.0"
      ]
     },
     "execution_count": 8,
     "metadata": {},
     "output_type": "execute_result"
    }
   ],
   "source": [
    "#check on missing value\n",
    "def missing_value(data):\n",
    "    total = data.isnull().sum().sort_values(ascending = False)\n",
    "    percent = (data.isnull().sum()/data.isnull().count()*100).sort_values(ascending = False)\n",
    "    return pd.concat([total, percent], axis=1, keys=['Total', 'Percent'])\n",
    "\n",
    "\n",
    "missing_value(data)"
   ]
  },
  {
   "cell_type": "code",
   "execution_count": null,
   "metadata": {},
   "outputs": [],
   "source": []
  },
  {
   "cell_type": "code",
   "execution_count": 9,
   "metadata": {},
   "outputs": [
    {
     "name": "stdout",
     "output_type": "stream",
     "text": [
      "X Data is \n",
      "    age_patient  spectacle_prescription  astigmatic  tear_production_rate:  \n",
      "0            1                       1           1                        1\n",
      "1            1                       1           1                        2\n",
      "2            1                       1           2                        1\n",
      "3            1                       1           2                        2\n",
      "4            1                       2           1                        1\n",
      "X shape is  (24, 4)\n",
      "y Data is \n",
      " 0    3\n",
      "1    2\n",
      "2    3\n",
      "3    1\n",
      "4    3\n",
      "Name: class, dtype: int64\n",
      "y shape is  (24,)\n"
     ]
    }
   ],
   "source": [
    "#X Data\n",
    "X = data.drop(['class','class name'], axis=1, inplace=False)\n",
    "print('X Data is \\n' , X.head())\n",
    "print('X shape is ' , X.shape)\n",
    "\n",
    "#y Data\n",
    "y = data['class']\n",
    "print('y Data is \\n' , y.head())\n",
    "print('y shape is ' , y.shape)\n"
   ]
  },
  {
   "cell_type": "markdown",
   "metadata": {},
   "source": [
    "# Data Visualization"
   ]
  },
  {
   "cell_type": "code",
   "execution_count": 10,
   "metadata": {},
   "outputs": [],
   "source": [
    "from pandas.plotting import scatter_matrix\n",
    "from matplotlib import pyplot\n",
    "# Adjusting Style . .  :  \n",
    "# plt.style.use('fivethirtyeight')\n",
    "plt.style.use('seaborn-notebook')"
   ]
  },
  {
   "cell_type": "code",
   "execution_count": 11,
   "metadata": {},
   "outputs": [
    {
     "data": {
      "image/png": "[encoded data removed]",
      "text/plain": [
       "<Figure size 1080x360 with 1 Axes>"
      ]
     },
     "metadata": {
      "needs_background": "light"
     },
     "output_type": "display_data"
    }
   ],
   "source": [
    "# Plot green dots using the argument \"go\"\n",
    "plt.figure(figsize=(15,5))\n",
    "plt.plot(X,y,'go')\n",
    "plt.xlabel(\"X - Axis\")\n",
    "plt.ylabel(\"Y - Axis\")\n",
    "plt.show()"
   ]
  },
  {
   "cell_type": "code",
   "execution_count": 12,
   "metadata": {},
   "outputs": [
    {
     "data": {
      "image/png": "[encoded data removed]",
      "text/plain": [
       "<Figure size 576x396 with 4 Axes>"
      ]
     },
     "metadata": {
      "needs_background": "light"
     },
     "output_type": "display_data"
    }
   ],
   "source": [
    "# box and whisker plots\n",
    "X.plot(kind='box', subplots=True, layout=(2,2))\n",
    "pyplot.show()"
   ]
  },
  {
   "cell_type": "code",
   "execution_count": 13,
   "metadata": {},
   "outputs": [
    {
     "data": {
      "image/png": "[encoded data removed]",
      "text/plain": [
       "<Figure size 576x396 with 4 Axes>"
      ]
     },
     "metadata": {
      "needs_background": "light"
     },
     "output_type": "display_data"
    }
   ],
   "source": [
    "# histograms\n",
    "X.hist()\n",
    "pyplot.show()"
   ]
  },
  {
   "cell_type": "markdown",
   "metadata": {},
   "source": [
    "# Standardization"
   ]
  },
  {
   "cell_type": "code",
   "execution_count": 14,
   "metadata": {},
   "outputs": [
    {
     "name": "stdout",
     "output_type": "stream",
     "text": [
      "X \n",
      " [[-1.22474487 -1.         -1.08711461 -1.        ]\n",
      " [-1.22474487 -1.         -1.08711461  1.        ]\n",
      " [-1.22474487 -1.          0.91986621 -1.        ]\n",
      " [-1.22474487 -1.          0.91986621  1.        ]\n",
      " [-1.22474487  1.         -1.08711461 -1.        ]\n",
      " [-1.22474487  1.         -1.08711461  1.        ]\n",
      " [-1.22474487  1.          0.91986621 -1.        ]\n",
      " [-1.22474487  1.          0.91986621  1.        ]\n",
      " [ 0.         -1.          0.91986621 -1.        ]\n",
      " [ 0.         -1.         -1.08711461  1.        ]]\n",
      "y \n",
      " 0    3\n",
      "1    2\n",
      "2    3\n",
      "3    1\n",
      "4    3\n",
      "5    2\n",
      "6    3\n",
      "7    1\n",
      "8    3\n",
      "9    2\n",
      "Name: class, dtype: int64\n"
     ]
    }
   ],
   "source": [
    "from sklearn.preprocessing import StandardScaler\n",
    "#----------------------------------------------------\n",
    "\n",
    "#Standard Scaler for Data\n",
    "scaler = StandardScaler(copy=True, with_mean=True, with_std=True)\n",
    "X = scaler.fit_transform(X)\n",
    "\n",
    "# showing data\n",
    "print('X \\n' , X[:10])\n",
    "print('y \\n' , y[:10])\n"
   ]
  },
  {
   "cell_type": "markdown",
   "metadata": {},
   "source": [
    "# Splitting data"
   ]
  },
  {
   "cell_type": "markdown",
   "metadata": {},
   "source": [
    "# Splitting data by train_test_split"
   ]
  },
  {
   "cell_type": "code",
   "execution_count": 15,
   "metadata": {},
   "outputs": [
    {
     "name": "stdout",
     "output_type": "stream",
     "text": [
      "X_train shape is  (16, 4)\n",
      "X_test shape is  (8, 4)\n",
      "y_train shape is  (16,)\n",
      "y_test shape is  (8,)\n"
     ]
    }
   ],
   "source": [
    "#----------------------------------------------------\n",
    "from sklearn.model_selection import train_test_split \n",
    "#----------------------------------------------------\n",
    "#Splitting data\n",
    "\n",
    "X_train, X_test, y_train, y_test = train_test_split(X, y, test_size=0.3, random_state=44)\n",
    "\n",
    " \n",
    "print('X_train shape is ' , X_train.shape)\n",
    "print('X_test shape is ' , X_test.shape)\n",
    "print('y_train shape is ' , y_train.shape)\n",
    "print('y_test shape is ' , y_test.shape)"
   ]
  },
  {
   "cell_type": "code",
   "execution_count": 32,
   "metadata": {},
   "outputs": [
    {
     "name": "stdout",
     "output_type": "stream",
     "text": [
      "SVCModel Train Score is :  93.75 %\n",
      "SVCModel Test Score is :  87.5 %\n",
      "----------------------------------------------------\n",
      "Predicted Value for SVCModel is :  [3 1 1 2 3 2 3 3]\n"
     ]
    },
    {
     "name": "stderr",
     "output_type": "stream",
     "text": [
      "D:\\New folder\\anaconda\\lib\\site-packages\\sklearn\\model_selection\\_search.py:814: DeprecationWarning: The default of the `iid` parameter will change from True to False in version 0.22 and will be removed in 0.24. This will change numeric results when test-set sizes are unequal.\n",
      "  DeprecationWarning)\n"
     ]
    }
   ],
   "source": [
    "#----------------------------------------------------\n",
    "from sklearn.svm import SVC\n",
    "from sklearn.model_selection import GridSearchCV\n",
    "#----------------------------------------------------\n",
    "#Applying SVC Model \n",
    "SelectedModel = SVC(gamma='auto')\n",
    "SelectedParameters = {'kernel':('linear', 'rbf','sigmoid'), 'C':[1,2,3,4,5]}\n",
    "#=======================================================================\n",
    "GridSearchModel = GridSearchCV(SelectedModel,SelectedParameters, cv = 2,return_train_score=True)\n",
    "GridSearchModel.fit(X_train, y_train)\n",
    "sorted(GridSearchModel.cv_results_.keys())\n",
    "GridSearchResults = pd.DataFrame(GridSearchModel.cv_results_)[['mean_test_score', 'std_test_score', 'params' , 'rank_test_score' , 'mean_fit_time']]\n",
    "#===============================================================================================================================\n",
    "#Calculating Details\n",
    "print('SVCModel Train Score is : ' , round(GridSearchModel.score(X_train, y_train)*100,2),'%')\n",
    "print('SVCModel Test Score is : ' , round(GridSearchModel.score(X_test, y_test)*100,2),'%')\n",
    "print('----------------------------------------------------')\n",
    "\n",
    "# #Calculating Prediction\n",
    "y_pred = GridSearchModel.predict(X_test)\n",
    "print('Predicted Value for SVCModel is : ' , y_pred[:8])"
   ]
  },
  {
   "cell_type": "code",
   "execution_count": 17,
   "metadata": {},
   "outputs": [
    {
     "name": "stdout",
     "output_type": "stream",
     "text": [
      "Confusion Matrix is : \n",
      " [[1 0 0]\n",
      " [0 2 0]\n",
      " [0 0 5]]\n"
     ]
    },
    {
     "data": {
      "image/png": "[encoded data removed]",
      "text/plain": [
       "<Figure size 576x396 with 2 Axes>"
      ]
     },
     "metadata": {
      "needs_background": "light"
     },
     "output_type": "display_data"
    }
   ],
   "source": [
    "#Calculating Confusion Matrix\n",
    "import pylab as pl\n",
    "CM1 = confusion_matrix(y_test, y_pred)\n",
    "print('Confusion Matrix is : \\n', CM1)\n",
    "\n",
    "sns.heatmap(CM1, center = True)\n",
    "plt.show()\n"
   ]
  },
  {
   "cell_type": "code",
   "execution_count": 18,
   "metadata": {},
   "outputs": [
    {
     "name": "stdout",
     "output_type": "stream",
     "text": [
      "Classification Report SVM : \n",
      "              precision    recall  f1-score   support\n",
      "\n",
      "           1       1.00      1.00      1.00         1\n",
      "           2       1.00      1.00      1.00         2\n",
      "           3       1.00      1.00      1.00         5\n",
      "\n",
      "    accuracy                           1.00         8\n",
      "   macro avg       1.00      1.00      1.00         8\n",
      "weighted avg       1.00      1.00      1.00         8\n",
      "\n"
     ]
    }
   ],
   "source": [
    "# Classification Report\n",
    "print('Classification Report SVM : ')\n",
    "print(classification_report(y_test,y_pred))"
   ]
  },
  {
   "cell_type": "code",
   "execution_count": 19,
   "metadata": {},
   "outputs": [
    {
     "name": "stdout",
     "output_type": "stream",
     "text": [
      "--------------------------------------------------------------------------------\n",
      "Accuracy 100.0 %\n",
      "--------------------------------------------------------------------------------\n"
     ]
    }
   ],
   "source": [
    "#----------------------------------------------------\n",
    "#Calculating Accuracy Score  : ((TP + TN) / float(TP + TN + FP + FN))\n",
    "#----------------------------------------------------\n",
    "from sklearn.metrics import accuracy_score\n",
    "print('--'*40)\n",
    "svm = round(accuracy_score(y_test, y_pred) * 100,2)\n",
    "print('Accuracy', svm,'%')\n",
    "print('--'*40)"
   ]
  },
  {
   "cell_type": "code",
   "execution_count": 20,
   "metadata": {},
   "outputs": [
    {
     "name": "stdout",
     "output_type": "stream",
     "text": [
      "MLPClassifierModel Train Score is :  93.75 %\n",
      "MLPClassifierModel Test Score is :  87.5 %\n"
     ]
    },
    {
     "name": "stderr",
     "output_type": "stream",
     "text": [
      "D:\\New folder\\anaconda\\lib\\site-packages\\sklearn\\model_selection\\_search.py:814: DeprecationWarning: The default of the `iid` parameter will change from True to False in version 0.22 and will be removed in 0.24. This will change numeric results when test-set sizes are unequal.\n",
      "  DeprecationWarning)\n"
     ]
    }
   ],
   "source": [
    "#----------------------------------------------------\n",
    "from sklearn.neural_network import MLPClassifier\n",
    "#----------------------------------------------------\n",
    "#----------------------------------------------------Applying MLPClassifier Model---------------------------------------\n",
    " \n",
    "SelectedModel2 = MLPClassifier(early_stopping= True, alpha=0.0001 ,hidden_layer_sizes=(100, 2),random_state=44)\n",
    "\n",
    "SelectedParameters2 = {'solver':('lbfgs', 'sgd','adam'), \n",
    "                       'activation':('identity', 'logistic','relu'),\n",
    "                      'learning_rate':('constant', 'invscaling','adaptive')}\n",
    "#-----------------------------------------------------------------------------------------------------------------------\n",
    "GridSearchModel2 = GridSearchCV(SelectedModel2,SelectedParameters2, cv = 2,return_train_score=True)\n",
    "GridSearchModel2.fit(X_train, y_train)\n",
    "sorted(GridSearchModel2.cv_results_.keys())\n",
    "GridSearchResults2 = pd.DataFrame(GridSearchModel2.cv_results_)[['mean_test_score', 'std_test_score', 'params' , 'rank_test_score' , 'mean_fit_time']]\n",
    "#---------------------------------------------------------------------------------------------------------------------------------\n",
    "#Calculating Details\n",
    "print('MLPClassifierModel Train Score is : ' , round(GridSearchModel2.score(X_train, y_train)*100,2),'%')\n",
    "print('MLPClassifierModel Test Score is : ' , round(GridSearchModel2.score(X_test, y_test)*100,2),'%')\n",
    "#print('----------------------------------------------------')\n",
    "\n",
    "#Calculating Prediction\n",
    "y_pred = GridSearchModel2.predict(X_test) "
   ]
  },
  {
   "cell_type": "code",
   "execution_count": 21,
   "metadata": {},
   "outputs": [
    {
     "name": "stdout",
     "output_type": "stream",
     "text": [
      "Confusion Matrix is : \n",
      " [[1 0 0]\n",
      " [0 2 0]\n",
      " [1 0 4]]\n"
     ]
    }
   ],
   "source": [
    "#----------------------------------------------------\n",
    "#Calculating Confusion Matrix\n",
    "import pylab as pl\n",
    "CM = confusion_matrix(y_test, y_pred)\n",
    "print('Confusion Matrix is : \\n', CM)\n"
   ]
  },
  {
   "cell_type": "code",
   "execution_count": 22,
   "metadata": {},
   "outputs": [
    {
     "data": {
      "image/png": "[encoded data removed]",
      "text/plain": [
       "<Figure size 576x396 with 2 Axes>"
      ]
     },
     "metadata": {
      "needs_background": "light"
     },
     "output_type": "display_data"
    }
   ],
   "source": [
    "# drawing confusion matrix\n",
    "sns.heatmap(CM, center = True)\n",
    "plt.show()"
   ]
  },
  {
   "cell_type": "code",
   "execution_count": 23,
   "metadata": {},
   "outputs": [
    {
     "name": "stdout",
     "output_type": "stream",
     "text": [
      "Classification Report ANN : \n",
      "              precision    recall  f1-score   support\n",
      "\n",
      "           1       0.50      1.00      0.67         1\n",
      "           2       1.00      1.00      1.00         2\n",
      "           3       1.00      0.80      0.89         5\n",
      "\n",
      "    accuracy                           0.88         8\n",
      "   macro avg       0.83      0.93      0.85         8\n",
      "weighted avg       0.94      0.88      0.89         8\n",
      "\n"
     ]
    }
   ],
   "source": [
    "# Classification Report\n",
    "print('Classification Report ANN : ')\n",
    "print(classification_report(y_test,y_pred))\n"
   ]
  },
  {
   "cell_type": "code",
   "execution_count": null,
   "metadata": {},
   "outputs": [],
   "source": []
  },
  {
   "cell_type": "code",
   "execution_count": 24,
   "metadata": {},
   "outputs": [
    {
     "name": "stdout",
     "output_type": "stream",
     "text": [
      "--------------------------------------------------------------------------------\n",
      "Accuracy  :: ANN  87.5   || SVM  100.0 %\n",
      "--------------------------------------------------------------------------------\n"
     ]
    }
   ],
   "source": [
    "#---------------------------------------------------------------------\n",
    "#Calculating Accuracy Score  : ((TP + TN) / float(TP + TN + FP + FN))\n",
    "# --------------------------------------------------------------------\n",
    "from sklearn.metrics import accuracy_score\n",
    "print('--'*40)\n",
    "ANN = round(accuracy_score(y_test, y_pred) * 100,2)\n",
    "print('Accuracy  :: ANN ', ANN,'  || SVM ' ,svm,'%')\n",
    "print('--'*40)"
   ]
  },
  {
   "cell_type": "code",
   "execution_count": 25,
   "metadata": {},
   "outputs": [
    {
     "data": {
      "text/plain": [
       "Text(0.5, 1.0, 'Plotting comparing accuracies')"
      ]
     },
     "execution_count": 25,
     "metadata": {},
     "output_type": "execute_result"
    },
    {
     "data": {
      "image/png": "[encoded data removed]",
      "text/plain": [
       "<Figure size 504x288 with 1 Axes>"
      ]
     },
     "metadata": {
      "needs_background": "light"
     },
     "output_type": "display_data"
    }
   ],
   "source": [
    "#comparing accuracies\n",
    "plt.figure(figsize= (7,4))\n",
    "ac = [svm,ANN]\n",
    "name = ['svm','ANN']\n",
    "sns.barplot(x = ac,y = name,palette='pastel')\n",
    "plt.title(\"Plotting comparing accuracies\", fontsize=16, fontweight=\"bold\")"
   ]
  },
  {
   "cell_type": "code",
   "execution_count": null,
   "metadata": {},
   "outputs": [],
   "source": []
  }
 ],
 "metadata": {
  "kernelspec": {
   "display_name": "Python 3",
   "language": "python",
   "name": "python3"
  },
  "language_info": {
   "codemirror_mode": {
    "name": "ipython",
    "version": 3
   },
   "file_extension": ".py",
   "mimetype": "text/x-python",
   "name": "python",
   "nbconvert_exporter": "python",
   "pygments_lexer": "ipython3",
   "version": "3.7.4"
  }
 },
 "nbformat": 4,
 "nbformat_minor": 2
}
